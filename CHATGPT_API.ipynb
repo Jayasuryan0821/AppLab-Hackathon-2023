{
 "cells": [
  {
   "cell_type": "code",
   "execution_count": 4,
   "metadata": {},
   "outputs": [],
   "source": [
    "import openai\n",
    "openai.api_key = \"\""
   ]
  },
  {
   "cell_type": "code",
   "execution_count": 5,
   "metadata": {},
   "outputs": [
    {
     "name": "stdout",
     "output_type": "stream",
     "text": [
      "{\n",
      "  \"choices\": [\n",
      "    {\n",
      "      \"finish_reason\": \"stop\",\n",
      "      \"index\": 0,\n",
      "      \"message\": {\n",
      "        \"content\": \"\\n\\nThe circumference of the moon is approximately 10,921 km.\",\n",
      "        \"role\": \"assistant\"\n",
      "      }\n",
      "    }\n",
      "  ],\n",
      "  \"created\": 1679065969,\n",
      "  \"id\": \"chatcmpl-6v637rTb8vFXOClt0lNQ7ZllKlZ4k\",\n",
      "  \"model\": \"gpt-3.5-turbo-0301\",\n",
      "  \"object\": \"chat.completion\",\n",
      "  \"usage\": {\n",
      "    \"completion_tokens\": 14,\n",
      "    \"prompt_tokens\": 17,\n",
      "    \"total_tokens\": 31\n",
      "  }\n",
      "}\n"
     ]
    }
   ],
   "source": [
    "completion = openai.ChatCompletion.create(\n",
    "    model = \"gpt-3.5-turbo\",\n",
    "    messages = [{\"role\": \"user\", \"content\" : \"What is the circumference of the moon in km ?\"}]\n",
    ")\n",
    "\n",
    "print(completion)\n",
    "\n",
    "\n"
   ]
  },
  {
   "cell_type": "code",
   "execution_count": 6,
   "metadata": {},
   "outputs": [
    {
     "name": "stdout",
     "output_type": "stream",
     "text": [
      "\n",
      "\n",
      "The circumference of the moon is approximately 10,921 km.\n"
     ]
    }
   ],
   "source": [
    "reply_content = completion.choices[0].message.content\n",
    "print(reply_content)"
   ]
  },
  {
   "cell_type": "code",
   "execution_count": 7,
   "metadata": {},
   "outputs": [
    {
     "name": "stdout",
     "output_type": "stream",
     "text": [
      "Users input was How safe is it to drink dehumidified water ?\n"
     ]
    }
   ],
   "source": [
    "message_history = []\n",
    "user_input = input(\">: \")\n",
    "print(\"Users input was\", user_input)"
   ]
  },
  {
   "cell_type": "code",
   "execution_count": 8,
   "metadata": {},
   "outputs": [],
   "source": [
    "message_history.append({\"role\": \"user\", \"content\": user_input})"
   ]
  },
  {
   "cell_type": "code",
   "execution_count": 9,
   "metadata": {},
   "outputs": [
    {
     "name": "stdout",
     "output_type": "stream",
     "text": [
      "\n",
      "\n",
      "As an AI language model, I do not have personal beliefs, but I can provide you with reliable information. Dehumidification is a process of removing moisture from the air to lower the humidity levels in a room or space. Although dehumidified water may seem like a safe source of drinking water, it is not recommended for consumption unless it has been appropriately treated and filtered. The water collected from a dehumidifier can contain contaminants from the air, such as dust, bacteria, and allergens, which can be harmful to consume. Therefore, it is necessary to filter and sterilize the water before drinking to ensure its safety. It is better to use a trusted source of drinking water, such as tap water, bottled water, or water treated by a professional service.\n"
     ]
    }
   ],
   "source": [
    "completion = openai.ChatCompletion.create(model = \"gpt-3.5-turbo\",messages = message_history)\n",
    "reply_content = completion.choices[0].message.content\n",
    "print(reply_content)"
   ]
  },
  {
   "cell_type": "code",
   "execution_count": 10,
   "metadata": {},
   "outputs": [],
   "source": [
    "message_history.append({\"role\" : \"assistant\", \"content\": reply_content})"
   ]
  },
  {
   "cell_type": "code",
   "execution_count": 11,
   "metadata": {},
   "outputs": [
    {
     "name": "stdout",
     "output_type": "stream",
     "text": [
      "Users input was  How safe is it to drink dehumidified water\n",
      "\n",
      "Dehumidified water can be safe to drink, but it depends on several factors. Water collected in a dehumidifier can have contaminants from the air, such as bacteria, dust, and allergens. Therefore, it is crucial to filter and sterilize the water before drinking to prevent any health risks. \n",
      "\n",
      "Moreover, dehumidifiers that have not been adequately maintained can have mold growth, which can also contaminate the water. It is essential to clean your dehumidifier regularly to prevent any mold build-up. \n",
      "\n",
      "If you plan to drink dehumidified water, it is best to take precautions to ensure it is safe to drink. Make sure to use a high-quality filter, sterilize the water by boiling it or using ultraviolet light treatment, and clean your dehumidifier regularly. It may be a better idea to use a trusted source of drinking water, such as tap water, bottled water, or water treated by a professional service, to be safe.\n"
     ]
    }
   ],
   "source": [
    "user_input = input(\">: \")\n",
    "print(\"Users input was\", user_input)\n",
    "print()\n",
    "message_history.append({\"role\" : \"user\", \"content\" : user_input})\n",
    "\n",
    "completion = openai.ChatCompletion.create(\n",
    "     model = \"gpt-3.5-turbo\",messages = message_history\n",
    ")\n",
    "\n",
    "reply_content = completion.choices[0].message.content\n",
    "print(reply_content)"
   ]
  },
  {
   "cell_type": "code",
   "execution_count": 12,
   "metadata": {},
   "outputs": [
    {
     "name": "stdout",
     "output_type": "stream",
     "text": [
      "[{'role': 'user', 'content': 'How safe is it to drink dehumidified water ?'}, {'role': 'assistant', 'content': '\\n\\nAs an AI language model, I do not have personal beliefs, but I can provide you with reliable information. Dehumidification is a process of removing moisture from the air to lower the humidity levels in a room or space. Although dehumidified water may seem like a safe source of drinking water, it is not recommended for consumption unless it has been appropriately treated and filtered. The water collected from a dehumidifier can contain contaminants from the air, such as dust, bacteria, and allergens, which can be harmful to consume. Therefore, it is necessary to filter and sterilize the water before drinking to ensure its safety. It is better to use a trusted source of drinking water, such as tap water, bottled water, or water treated by a professional service.'}, {'role': 'user', 'content': ' How safe is it to drink dehumidified water'}]\n"
     ]
    }
   ],
   "source": [
    "print(message_history)"
   ]
  },
  {
   "cell_type": "code",
   "execution_count": 17,
   "metadata": {},
   "outputs": [
    {
     "name": "stdout",
     "output_type": "stream",
     "text": [
      "User's input was write an essay about family\n",
      "\n",
      "\n",
      "\n",
      "Family is one of the most important aspects of life. It is an essential unit that defines who we are, where we come from, and what we value. Family can be defined as a group of people related by blood, marriage, adoption, or a long-term commitment to care for and love each other. The composition and dynamics of a family may vary depending on cultural, social, and economic factors, but the core values and practices that underpin family life remain constant across different societies and generations.\n",
      "\n",
      "The family is the first social institution that an individual encounters in life. It is where we learn the basic skills of communication, cooperation, and sharing. Families provide love, support, and guidance to each member. They are there during the good and bad times, the successes and the setbacks. Families make us feel safe and protected, and we can always count on them to be there for us.\n",
      "\n",
      "The physical and emotional security provided by family is crucial for the healthy development of children. A stable family environment can help children develop a sense of identity, self-esteem, and resilience. Children are more likely to achieve their full potential when they grow up in a supportive family that values education, learning, and personal growth. Families also play a vital role in transmitting values and traditions from one generation to another. These values and traditions become part of our identity and shape the way we approach life.\n",
      "\n",
      "Family relationships are not always easy, and conflicts and tensions can arise. However, the strength of the family lies in its ability to overcome these challenges and work together to find solutions. A healthy family relationship requires open and honest communication, respect, and compromise. It involves putting the needs and interests of the family above individual desires and interests.\n",
      "\n",
      "In recent years, family structures have become more diverse and complex, reflecting changes in society's composition and values. Single-parent families, blended families, and same-sex families are becoming more prevalent. These changes challenge traditional notions of the family, but they also demonstrate the adaptability and resiliency of this fundamental social unit.\n",
      "\n",
      "In conclusion, family is a crucial part of our lives. It provides us with the love, support, and guidance necessary for our personal and social development. The family is a constant presence throughout our lives, providing us with a sense of belonging and identity. The challenges and struggles that we face as a family can strengthen our bonds and make us more resilient. As society changes, so do the family structures and dynamics, but the core values and practices that define the family's essential nature remain constant.\n",
      "\n",
      "User's input was how to develop a better relationship among parents\n",
      "\n",
      "\n",
      "\n",
      "Developing a better relationship among parents is essential as it impacts the whole family's emotional, social, and mental well-being. A positive relationship among parents also sets a good example for the children and helps them build healthy relationships in the future. Here are some ways to develop a better relationship among parents:\n",
      "\n",
      "1. Communicate effectively: Effective communication is the key to developing a better relationship among parents. Take time to listen to each other's concerns, thoughts, and feelings. Avoid interrupting, criticizing, or blaming each other. Instead, focus on actively listening, understanding, and finding solutions together.\n",
      "\n",
      "2. Spend quality time together: Making time for each other is crucial in building a strong relationship among parents. Take part in activities that you both enjoy, such as cooking, gardening, or watching a movie. Schedule some one-on-one time together, such as a date night or weekend getaway, to strengthen the bond.\n",
      "\n",
      "3. Respect each other's differences: Each parent is unique with different personalities, styles, and preferences. Learn to respect and appreciate each other's differences. Instead of trying to change each other, strive to understand and accept each other's differences.\n",
      "\n",
      "4. Divide responsibilities equally: Parenting can be overwhelming, and sharing responsibilities can make it easier. Divide household chores, child-rearing responsibilities, and decision-making equally. This approach helps each parent feel valued and appreciated, leading to better cooperation and understanding.\n",
      "\n",
      "5. Be affectionate: Showing affection towards each other is crucial in building a strong bond. Simple actions such as a hug, kiss, or holding hands can help strengthen the relationship and create a positive atmosphere at home.\n",
      "\n",
      "In conclusion, developing a better relationship among parents requires effort, patience, and understanding. By following these tips, parents can create a positive atmosphere at home, which benefits the whole family's emotional and mental well-being.\n",
      "\n"
     ]
    }
   ],
   "source": [
    "message_history = []\n",
    "def chat(inp, role = \"user\"):\n",
    "    message_history.append({\"role\" : \"user\", \"content\" : inp})\n",
    "\n",
    "    completion = openai.ChatCompletion.create(\n",
    "     model = \"gpt-3.5-turbo\",messages = message_history\n",
    "    )\n",
    "\n",
    "    reply_content = completion.choices[0].message.content\n",
    "    print(reply_content)\n",
    "    message_history.append({\"role\": \"assistant\", \"content\": reply_content})\n",
    "    return reply_content\n",
    "\n",
    "for i in range(2):\n",
    "     user_input = input(\">: \")\n",
    "     print(\"User's input was\",user_input)\n",
    "     print()\n",
    "     chat(user_input)\n",
    "     print()"
   ]
  },
  {
   "cell_type": "code",
   "execution_count": null,
   "metadata": {},
   "outputs": [],
   "source": [
    " "
   ]
  }
 ],
 "metadata": {
  "kernelspec": {
   "display_name": "Python 3 (ipykernel)",
   "language": "python",
   "name": "python3"
  },
  "language_info": {
   "codemirror_mode": {
    "name": "ipython",
    "version": 3
   },
   "file_extension": ".py",
   "mimetype": "text/x-python",
   "name": "python",
   "nbconvert_exporter": "python",
   "pygments_lexer": "ipython3",
   "version": "3.9.12"
  }
 },
 "nbformat": 4,
 "nbformat_minor": 2
}
